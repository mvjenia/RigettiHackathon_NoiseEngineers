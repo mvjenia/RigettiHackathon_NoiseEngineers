{
 "cells": [
  {
   "cell_type": "code",
   "execution_count": 1,
   "metadata": {},
   "outputs": [],
   "source": [
    "from pyquil.quil import Program\n",
    "from pyquil.api import QVMConnection\n",
    "from pyquil.gates import *\n",
    "from pyquil.api import CompilerConnection\n",
    "import numpy as np\n",
    "from math import pi"
   ]
  },
  {
   "cell_type": "code",
   "execution_count": 2,
   "metadata": {},
   "outputs": [],
   "source": [
    "qvm = QVMConnection()"
   ]
  },
  {
   "cell_type": "markdown",
   "metadata": {},
   "source": [
    "A simple demo of the Quantum Virtual Machine is to print out the action of \n",
    "CPHASE gate on states |00>, |01>, |10>, |11>"
   ]
  },
  {
   "cell_type": "code",
   "execution_count": 3,
   "metadata": {},
   "outputs": [
    {
     "name": "stdout",
     "output_type": "stream",
     "text": [
      "(1+0j)|00>\n",
      "(1+0j)|01>\n",
      "(1+0j)|10>\n",
      "(0.9807852804-0.195090322j)|11>\n"
     ]
    }
   ],
   "source": [
    "p = Program()\n",
    "p.inst(CPHASE(-pi/16.0, 0, 1))\n",
    "wf = qvm.wavefunction(p)\n",
    "print(wf)\n",
    "\n",
    "p = Program()\n",
    "p.inst(X(0))\n",
    "p.inst(CPHASE(-pi/16.0, 0, 1))\n",
    "wf = qvm.wavefunction(p)\n",
    "print(wf)\n",
    "\n",
    "p = Program()\n",
    "p.inst(X(1))\n",
    "p.inst(CPHASE(-pi/16.0, 0, 1))\n",
    "wf = qvm.wavefunction(p)\n",
    "print(wf)\n",
    "\n",
    "p = Program()\n",
    "p.inst(X(0))\n",
    "p.inst(X(1))\n",
    "p.inst(CPHASE(-pi/16.0, 0, 1))\n",
    "wf = qvm.wavefunction(p)\n",
    "print(wf)"
   ]
  },
  {
   "cell_type": "markdown",
   "metadata": {},
   "source": [
    "A slightly more complicated task is to build exp(iJZZ) gate:"
   ]
  },
  {
   "cell_type": "code",
   "execution_count": 4,
   "metadata": {},
   "outputs": [
    {
     "name": "stdout",
     "output_type": "stream",
     "text": [
      "(0.9807852804-0.195090322j)|00>\n",
      "(1+0j)|01>\n",
      "(1+0j)|10>\n",
      "(0.9807852804-0.195090322j)|11>\n"
     ]
    }
   ],
   "source": [
    "p = Program()\n",
    "p.inst(RZ(pi/16.0, 0))\n",
    "p.inst(RZ(pi/16.0, 1))\n",
    "p.inst(CPHASE(-pi/8.0, 0, 1))\n",
    "wf = qvm.wavefunction(p)\n",
    "print(wf)\n",
    "\n",
    "p = Program()\n",
    "p.inst(X(0))\n",
    "p.inst(RZ(pi/16.0, 0))\n",
    "p.inst(RZ(pi/16.0, 1))\n",
    "p.inst(CPHASE(-pi/8.0, 0, 1))\n",
    "wf = qvm.wavefunction(p)\n",
    "print(wf)\n",
    "\n",
    "p = Program()\n",
    "p.inst(X(1))\n",
    "p.inst(RZ(pi/16.0, 0))\n",
    "p.inst(RZ(pi/16.0, 1))\n",
    "p.inst(CPHASE(-pi/8.0, 0, 1))\n",
    "wf = qvm.wavefunction(p)\n",
    "print(wf)\n",
    "\n",
    "p = Program()\n",
    "p.inst(X(0))\n",
    "p.inst(X(1))\n",
    "p.inst(RZ(pi/16.0, 0))\n",
    "p.inst(RZ(pi/16.0, 1))\n",
    "p.inst(CPHASE(-pi/8.0, 0, 1))\n",
    "wf = qvm.wavefunction(p)\n",
    "print(wf)"
   ]
  },
  {
   "cell_type": "markdown",
   "metadata": {},
   "source": [
    "Normally the noise relaxes the qubits to the |0> state. It can be seen by running the identity circuit. On ideal simulator, the effect is not seen - the final state is the same as the initial state:"
   ]
  },
  {
   "cell_type": "code",
   "execution_count": 5,
   "metadata": {},
   "outputs": [
    {
     "name": "stdout",
     "output_type": "stream",
     "text": [
      "[[0], [0], [0], [0], [0]]\n"
     ]
    },
    {
     "data": {
      "text/plain": [
       "[[1], [1], [1], [1], [1]]"
      ]
     },
     "execution_count": 5,
     "metadata": {},
     "output_type": "execute_result"
    }
   ],
   "source": [
    "num_flips = 5\n",
    "\n",
    "p = Program()\n",
    "for i in range(300):\n",
    "    p.inst(I(0))\n",
    "p.measure(0, 0)\n",
    "print(qvm.run(p, [0], num_flips))\n",
    "\n",
    "p = Program()\n",
    "p.inst(X(0))\n",
    "for i in range(300):\n",
    "    p.inst(I(0))\n",
    "p.measure(0, 0)\n",
    "qvm.run(p, [0], num_flips)"
   ]
  },
  {
   "cell_type": "markdown",
   "metadata": {},
   "source": [
    "In a noise simulator, we get maximally mixed state: 50% chance of |0> and 50% chance of |1>:"
   ]
  },
  {
   "cell_type": "code",
   "execution_count": 6,
   "metadata": {},
   "outputs": [],
   "source": [
    "gate_noise_probs = [0.1, 0.1, 0.1]\n",
    "meas_noise_probs = [0.1, 0.1, 0.1]\n",
    "noisy_qvm = QVMConnection(gate_noise=gate_noise_probs, measurement_noise=meas_noise_probs)"
   ]
  },
  {
   "cell_type": "code",
   "execution_count": 8,
   "metadata": {},
   "outputs": [
    {
     "name": "stdout",
     "output_type": "stream",
     "text": [
      "[[0], [0], [0], [1], [1]]\n",
      "0.494\n",
      "[[0], [1], [1], [1], [1]]\n",
      "0.499\n"
     ]
    }
   ],
   "source": [
    "num_flips = 1000\n",
    "\n",
    "p = Program()\n",
    "for i in range(300):\n",
    "    p.inst(I(0))\n",
    "p.measure(0, 0)\n",
    "results =noisy_qvm.run(p, [0], num_flips)\n",
    "print(results[0:5])\n",
    "print(np.sum(results)/num_flips)\n",
    "\n",
    "p = Program()\n",
    "p.inst(X(0))\n",
    "for i in range(300):\n",
    "    p.inst(I(0))\n",
    "p.measure(0, 0)\n",
    "results =noisy_qvm.run(p, [0], num_flips)\n",
    "print(results[0:5])\n",
    "print(np.sum(results)/num_flips)"
   ]
  },
  {
   "cell_type": "markdown",
   "metadata": {},
   "source": [
    "On a real device, |0> is the preferred state:"
   ]
  },
  {
   "cell_type": "code",
   "execution_count": 9,
   "metadata": {},
   "outputs": [],
   "source": [
    "from pyquil.api import QPUConnection\n",
    "from pyquil.quil import Pragma\n",
    "qpu = QPUConnection('19Q-Acorn')"
   ]
  },
  {
   "cell_type": "code",
   "execution_count": 16,
   "metadata": {},
   "outputs": [
    {
     "name": "stdout",
     "output_type": "stream",
     "text": [
      "job jdhFcJOhTXvuIOEd is currently queued for compilation\n",
      "[[0], [0], [0], [0], [0]]\n",
      "0.046\n",
      "job LJUMUjJJcsNimSab is currently compiling\n",
      "[[0], [0], [0], [0], [0]]\n",
      "0.256\n"
     ]
    }
   ],
   "source": [
    "num_flips = 1000\n",
    "\n",
    "p = Program()\n",
    "p.inst(Pragma(\"PRESERVE_BLOCK\"))\n",
    "for i in range(599):\n",
    "    p.inst(I(0))\n",
    "p.inst(Pragma(\"END_BLOCK\"))\n",
    "p.measure(0, 0)\n",
    "results =qpu.run(p, [0], num_flips)\n",
    "print(results[0:5])\n",
    "print(np.sum(results)/num_flips)\n",
    "\n",
    "p = Program()\n",
    "p.inst(Pragma(\"PRESERVE_BLOCK\"))\n",
    "p.inst(X(0))\n",
    "for i in range(599): #599 is the maximum number of gates allowed here\n",
    "    p.inst(I(0))\n",
    "p.inst(Pragma(\"END_BLOCK\"))\n",
    "p.measure(0, 0)\n",
    "results =qpu.run(p, [0], num_flips)\n",
    "print(results[0:5])\n",
    "print(np.sum(results)/num_flips)"
   ]
  },
  {
   "cell_type": "markdown",
   "metadata": {},
   "source": [
    "Here we also added compiler directives not to simplify the circuit just in case.\n",
    "\n",
    "The first idea is to investigate how much can this relaxation be altered by repeating pulse sequences on the qubit a-la Dynamical Decoupling. The said Dynamical decoupling usually does not alter the end state of relaxation (steady state), but extends the qubit's lifetime. Unfortunately, at the moment it's not clear how to access the wall clock in the code, so it's hard to characterize the boost in the relaxation time. Indeed, gate I takes one amount of time while gates X,Z take a different amount of time, and we don't know how to compare the results between two relaxation time measurements.\n",
    "\n",
    "What we do instead is try to alter the steady state of the relaxation with the decoupling sequences. A slow-noise inspired sequence X Phase(omega +h) X Phase(omega-h) should make the qubit steady state point along h for the appropriate choice of omega depending on the qubit frequency. That doesn't work for any omega:"
   ]
  },
  {
   "cell_type": "code",
   "execution_count": 18,
   "metadata": {},
   "outputs": [
    {
     "name": "stdout",
     "output_type": "stream",
     "text": [
      "job XbnCWrjbEAkIaYuh is currently compiling\n",
      "job XbnCWrjbEAkIaYuh is currently running\n",
      "[[1], [0], [1], [0], [0]]\n",
      "0.572\n",
      "job oducowGnvlUBCscw is currently compiling\n",
      "job oducowGnvlUBCscw is currently running\n",
      "[[1], [0], [0], [0], [1]]\n",
      "0.532\n"
     ]
    }
   ],
   "source": [
    "num_flips = 1000\n",
    "angl=pi/8.0\n",
    "h0=2.0\n",
    "omegat=-1.0\n",
    "\n",
    "p = Program()\n",
    "p.inst(Pragma(\"PRESERVE_BLOCK\"))\n",
    "for i in range(299): #Here half of the above is the allowed # of gates\n",
    "    p.inst(RZ((omegat+h0)*angl, 0))    \n",
    "    p.inst(X(0))\n",
    "    p.inst(RZ((omegat-h0)*angl, 0))\n",
    "    p.inst(X(0))\n",
    "p.inst(Pragma(\"END_BLOCK\"))\n",
    "p.measure(0, 0)\n",
    "results =qpu.run(p, [0], num_flips)\n",
    "print(results[0:5])\n",
    "print(np.sum(results)/num_flips)\n",
    "\n",
    "p = Program()\n",
    "p.inst(Pragma(\"PRESERVE_BLOCK\"))\n",
    "p.inst(X(0))\n",
    "for i in range(299):\n",
    "    p.inst(RZ((omegat+h0)*angl, 0))    \n",
    "    p.inst(X(0))\n",
    "    p.inst(RZ((omegat-h0)*angl, 0))\n",
    "    p.inst(X(0))\n",
    "p.inst(Pragma(\"END_BLOCK\"))\n",
    "p.measure(0, 0)\n",
    "results =qpu.run(p, [0], num_flips)\n",
    "print(results[0:5])\n",
    "print(np.sum(results)/num_flips)"
   ]
  },
  {
   "cell_type": "markdown",
   "metadata": {},
   "source": [
    "The data: \n",
    "#|1> omega h\n",
    "#480 6 0\n",
    "#491 6 0\n",
    "#459,474,457 0 0\n",
    "#463,472 -6 0\n",
    "#468 -1 0\n",
    "#490 -2 0\n",
    "#470 -3 0\n",
    "#500 -4 0\n",
    "#465 -5 0\n",
    "#484 -7 0\n",
    "#525 0 1\n",
    "#580,482,485,504,479 0 2\n",
    "#502 0 3\n",
    "#512 0 4\n",
    "#540 0 5\n",
    "#477 0 6\n",
    "#414,517,489 0 7\n",
    "#477 0 -1\n",
    "#490 0 -2\n",
    "#489 1 2\n",
    "#469 2 2\n",
    "#372,485,473 3 2\n",
    "#451,463 4 2\n",
    "#502 -4 2\n",
    "#483 -1 2\n",
    "However, a simpler approach works. If we can wait in between X, then the sequence X-wait-X ends with a high (0.76) probability of |1>."
   ]
  },
  {
   "cell_type": "code",
   "execution_count": 23,
   "metadata": {},
   "outputs": [
    {
     "name": "stdout",
     "output_type": "stream",
     "text": [
      "job VWnfxnGOefjmGCrl is currently queued at position 0. Estimated time until execution: 0.0 seconds.\n",
      "[[1], [1], [1], [1], [1]]\n",
      "0.728\n",
      "job VjHjWgNToWtOheJX is currently queued for compilation\n",
      "[[1], [1], [1], [1], [1]]\n",
      "0.81\n"
     ]
    }
   ],
   "source": [
    "num_flips = 1000\n",
    "\n",
    "p = Program()\n",
    "p.inst(Pragma(\"PRESERVE_BLOCK\"))\n",
    "for i in range(39):    \n",
    "    p.inst(X(0))\n",
    "    p.inst(I(0))\n",
    "    p.inst(I(0))\n",
    "    p.inst(I(0))\n",
    "    p.inst(I(0))\n",
    "    p.inst(I(0))\n",
    "    p.inst(I(0))\n",
    "    p.inst(I(0))\n",
    "    p.inst(I(0))\n",
    "    p.inst(I(0))\n",
    "    p.inst(I(0))\n",
    "    p.inst(I(0))\n",
    "    p.inst(I(0))\n",
    "    p.inst(I(0))\n",
    "    p.inst(X(0))\n",
    "p.inst(Pragma(\"END_BLOCK\"))\n",
    "p.measure(0, 0)\n",
    "results =qpu.run(p, [0], num_flips)\n",
    "print(results[0:5])\n",
    "print(np.sum(results)/num_flips)\n",
    "\n",
    "p = Program()\n",
    "p.inst(Pragma(\"PRESERVE_BLOCK\"))\n",
    "p.inst(X(0))\n",
    "for i in range(39):\n",
    "    p.inst(X(0))\n",
    "    p.inst(I(0))\n",
    "    p.inst(I(0))\n",
    "    p.inst(I(0))\n",
    "    p.inst(I(0))\n",
    "    p.inst(I(0))\n",
    "    p.inst(I(0))\n",
    "    p.inst(I(0))\n",
    "    p.inst(I(0))\n",
    "    p.inst(I(0))\n",
    "    p.inst(I(0))\n",
    "    p.inst(I(0))\n",
    "    p.inst(I(0))\n",
    "    p.inst(I(0))\n",
    "    p.inst(X(0))\n",
    "p.inst(Pragma(\"END_BLOCK\"))\n",
    "p.measure(0, 0)\n",
    "results =qpu.run(p, [0], num_flips)\n",
    "print(results[0:5])\n",
    "print(np.sum(results)/num_flips)"
   ]
  },
  {
   "cell_type": "markdown",
   "metadata": {},
   "source": [
    "The sequence X Phase(omega +h) X Phase(omega-h) was attempting to unrotate e^{iHt} of the physical qubit with the omega term. The most trivial way to unrotate it is to apply Phase(omega) gates by themselves. Unfortunately, they are virtual, therefore no pulses are actually sent to the system. There is no reason to expect the environment to see our system any differently. The hope was that the next level sequence will do something interesting to cancel the e^{iHt}. We also tried it for 2 qubits with the e^{iJZZ} as the target evolution after cancelling e^{iHt}. Neither the slow-noise inspired method nor the wait-inspired methods produced relaxation to the ground state of JZZ. Below I show the code for the wait-inspired method:\n",
    "\n",
    "We produce the maximally mixed state of qubit 0, while allowing qubit 5 to relax to |0>. We then apply CNOT for a short time between the two. That should produce a correlated state p(|00>) =0.5, p(|11>)=0.5. Instead the steady state seems to be the mixed state of two qubits. We attribute it to gate error overwhelming the thermal error."
   ]
  },
  {
   "cell_type": "code",
   "execution_count": 24,
   "metadata": {},
   "outputs": [
    {
     "name": "stdout",
     "output_type": "stream",
     "text": [
      "job KUZBbMLxaBwvNUaB is currently compiling\n",
      "[251, 366, 159, 224]\n"
     ]
    }
   ],
   "source": [
    "\n",
    "p = Program()\n",
    "p.inst(Pragma(\"PRESERVE_BLOCK\"))\n",
    "p.inst(X(0))\n",
    "p.inst(X(5))\n",
    "for i in range(15):   \n",
    "    p.inst(H(5))\n",
    "    p.inst(CZ( 0, 5))\n",
    "    p.inst(H(5))\n",
    "    p.inst(H(5))\n",
    "    p.inst(CZ( 0, 5))\n",
    "    p.inst(H(5))\n",
    "    for i in range(30):\n",
    "        p.inst(X(0))\n",
    "\n",
    "\n",
    "p.inst(H(5))\n",
    "p.inst(CZ( 0, 5))\n",
    "p.inst(H(5))\n",
    "p.inst(Pragma(\"END_BLOCK\"))\n",
    "p.measure(0, 0).measure(5, 1)\n",
    "\n",
    "utcomes =qpu.run(p, [0,1], 1000)\n",
    "counterr=[0,0,0,0]\n",
    "for x in utcomes:\n",
    "    if x[0]==0:\n",
    "        if x[1]==0:\n",
    "            counterr[0]=counterr[0]+1\n",
    "        else:\n",
    "            counterr[1]=counterr[1]+1\n",
    "    else:\n",
    "        if x[1]==0:\n",
    "            counterr[2]=counterr[2]+1\n",
    "        else:\n",
    "            counterr[3]=counterr[3]+1\n",
    "print(counterr)"
   ]
  },
  {
   "cell_type": "markdown",
   "metadata": {},
   "source": [
    "Results are:\n",
    "[251, 366, 159, 224]\n",
    "[233, 247, 256, 264]"
   ]
  },
  {
   "cell_type": "code",
   "execution_count": null,
   "metadata": {},
   "outputs": [],
   "source": []
  }
 ],
 "metadata": {
  "kernelspec": {
   "display_name": "Python 3",
   "language": "python",
   "name": "python3"
  },
  "language_info": {
   "codemirror_mode": {
    "name": "ipython",
    "version": 3
   },
   "file_extension": ".py",
   "mimetype": "text/x-python",
   "name": "python",
   "nbconvert_exporter": "python",
   "pygments_lexer": "ipython3",
   "version": "3.6.4"
  }
 },
 "nbformat": 4,
 "nbformat_minor": 2
}
